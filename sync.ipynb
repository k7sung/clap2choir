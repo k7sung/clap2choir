{
  "nbformat": 4,
  "nbformat_minor": 0,
  "metadata": {
    "colab": {
      "name": "sync.ipynb",
      "provenance": [],
      "collapsed_sections": [],
      "authorship_tag": "ABX9TyNO2I8kEifiTN8biTYzM17q",
      "include_colab_link": true
    },
    "kernelspec": {
      "name": "python3",
      "display_name": "Python 3"
    }
  },
  "cells": [
    {
      "cell_type": "markdown",
      "metadata": {
        "id": "view-in-github",
        "colab_type": "text"
      },
      "source": [
        "<a href=\"https://colab.research.google.com/github/k7sung/clap2choir/blob/master/sync.ipynb\" target=\"_parent\"><img src=\"https://colab.research.google.com/assets/colab-badge.svg\" alt=\"Open In Colab\"/></a>"
      ]
    },
    {
      "cell_type": "code",
      "metadata": {
        "id": "XiiPrWqxhWj8",
        "colab_type": "code",
        "colab": {}
      },
      "source": [
        "SONG_NAME = \"A Promise\" #@param [\"A Promise\", \"On Eagle's Wings\"]\n",
        "\n",
        "import pytz\n",
        "from datetime import datetime, timezone\n",
        "time_zone = 'US/Central' #@param [\"US/Central\", \"Europe/London\", \"Asia/Taipei\"] {allow-input:true}\n",
        "tz = pytz.timezone(time_zone)\n",
        "now = datetime.now(tz)\n",
        "TODAY_DATE = now.strftime(\"%m%d\")\n",
        "\n",
        "SHARED_FOLDER_PATH = 'Shared drives/CR ESSC Virtual Choir' #@param {type:\"string\"}\n",
        "SHARED_FOLDER_PATH = \"/content/drive/\" + SHARED_FOLDER_PATH\n",
        "RAW_PATH = f\"./inputs/{SONG_NAME}/\"\n",
        "INPUT_PATH = f\"./inputs/temp/{SONG_NAME}/\"\n",
        "OUTPUT_PATH = f\"./outputs/{TODAY_DATE}/{SONG_NAME}/\"\n",
        "VID_FILE_GLOBS = [\"*.mov\",\"*.MOV\", \"*.mp4\"]\n",
        "AUD_FILE_GLOBS = [\"*.m4a\", \"*.mp3\"]\n",
        "\n",
        "VIDEO_RES = \"1920x1080\" #@param [\"1920x1080\", \"960x540\", \"540x360\"] \n",
        "W,H = [int(t) for t in VIDEO_RES.split(\"x\")]\n"
      ],
      "execution_count": 0,
      "outputs": []
    },
    {
      "cell_type": "markdown",
      "metadata": {
        "id": "o8dYiue_OAem",
        "colab_type": "text"
      },
      "source": [
        "\n",
        "### would be nice:\n",
        "\n",
        "* Loudness normalization (currently peak normalization). But supported in ffmpeg!\n",
        "* Easier mounting mechanism of Google Drive?\n",
        "* Better clap detection that also uses amplitude and time since last peak\n",
        "* Noise removal\n",
        "\n",
        "\n",
        "\n",
        "\n",
        "\n",
        "\n",
        "\n"
      ]
    },
    {
      "cell_type": "code",
      "metadata": {
        "id": "0gM-LbC3JkIC",
        "colab_type": "code",
        "colab": {}
      },
      "source": [
        "from google.colab import drive\n",
        "### need to add the shared folder to my drive (\"Add to my drive\") in Google Drive first\n",
        "drive.mount(\"/content/drive\")\n",
        "%cd \"$SHARED_FOLDER_PATH\"\n",
        "%ls \"$INPUT_PATH\"\n",
        "%mkdir -p \"$OUTPUT_PATH\"\n",
        "%mkdir -p \"$OUTPUT_PATH\"/compare\n",
        "%mkdir -p \"$OUTPUT_PATH\"/solo\n"
      ],
      "execution_count": 0,
      "outputs": []
    },
    {
      "cell_type": "markdown",
      "metadata": {
        "id": "dwYT4mWJ73RA",
        "colab_type": "text"
      },
      "source": [
        "### Resize and cache videos for faster processing later"
      ]
    },
    {
      "cell_type": "code",
      "metadata": {
        "id": "ayxmkQhKBRp-",
        "colab_type": "code",
        "outputId": "9d96bb52-bd25-4cf4-b3ce-463022669dab",
        "colab": {
          "base_uri": "https://localhost:8080/",
          "height": 51
        }
      },
      "source": [
        "import os\n",
        "from os.path import getmtime\n",
        "from pathlib import Path\n",
        "\n",
        "raw_paths = list(Path(RAW_PATH).iterdir()) #, key=os.path.getmtime\n",
        "cached_paths = list(Path(INPUT_PATH).iterdir())\n",
        "cached_files = dict([(c.name, getmtime(c)) for c in cached_paths])\n",
        "\n",
        "to_process = []\n",
        "#create or update\n",
        "for i in raw_paths:\n",
        "  if i.name.startswith('_'):\n",
        "    continue\n",
        "  if i.name in cached_files:\n",
        "    if getmtime(i) > cached_files[i.name]:\n",
        "      to_process.append(i.name) #update\n",
        "  else:\n",
        "    to_process.append(i.name) #create\n",
        "#delete\n",
        "to_delete = cached_files.keys() - set([i.name for i in raw_paths])\n",
        "\n",
        "print(to_process)\n",
        "print(to_delete)"
      ],
      "execution_count": 0,
      "outputs": [
        {
          "output_type": "stream",
          "text": [
            "[]\n",
            "set()\n"
          ],
          "name": "stdout"
        }
      ]
    },
    {
      "cell_type": "code",
      "metadata": {
        "id": "2DR-DQJaJxqt",
        "colab_type": "code",
        "colab": {}
      },
      "source": [
        "for name in to_delete:\n",
        "  print(\"removing \", name)\n",
        "  os.remove(INPUT_PATH+name)\n"
      ],
      "execution_count": 0,
      "outputs": []
    },
    {
      "cell_type": "code",
      "metadata": {
        "id": "1z0VDg5k7c2w",
        "colab_type": "code",
        "colab": {}
      },
      "source": [
        "from moviepy.editor import *\n",
        "import shutil\n",
        "\n",
        "vFx = lambda v:(v.resize(height=1080/4)\n",
        "  .fx(afx.audio_normalize)\n",
        "  )\n",
        "\n",
        "for filename in to_process:\n",
        "  if (filename.split('.')[-1].lower() in [\"mp3\", \"wav\", \"m4a\"]):\n",
        "    print(f\"copy {filename} to temp folder...\")\n",
        "    shutil.copyfile(RAW_PATH+filename, INPUT_PATH+filename)\n",
        "    print(\"done\")\n",
        "    continue\n",
        "  v = VideoFileClip(RAW_PATH+filename)\n",
        "  vo = vFx(v)\n",
        "  vo.write_videofile(INPUT_PATH+os.path.basename(v.filename), fps=30, codec='libx264', ffmpeg_params=['-crf','18'])\n",
        "\n"
      ],
      "execution_count": 0,
      "outputs": []
    },
    {
      "cell_type": "code",
      "metadata": {
        "id": "XksDT9OzJ9Kh",
        "colab_type": "code",
        "colab": {}
      },
      "source": [
        "import numpy as np\n",
        "from numpy import mean, median, var, diff, correlate as corr, zeros, transpose\n",
        "from moviepy.editor import *\n",
        "from moviepy.audio.AudioClip import AudioArrayClip\n",
        "\n",
        "import glob\n",
        "import os\n",
        "import matplotlib.pyplot as plt\n",
        "from itertools import combinations as comb\n",
        "from random import shuffle, randint"
      ],
      "execution_count": 0,
      "outputs": []
    },
    {
      "cell_type": "markdown",
      "metadata": {
        "id": "1yIQ_SYAQ-67",
        "colab_type": "text"
      },
      "source": [
        "\n",
        "### function to find the clapping sounds ###"
      ]
    },
    {
      "cell_type": "code",
      "metadata": {
        "id": "N9Zpk_ItKHb3",
        "colab_type": "code",
        "colab": {}
      },
      "source": [
        "def get_regular_patterns(ts):\n",
        "    candi_vars = [[var(diff([ts[i] for i in c])), c] for c in comb(range(len(ts)), 4)]\n",
        "    most_regular = min(candi_vars)\n",
        "    return [ts[t] for t in most_regular[1]]\n",
        "\n",
        "def get_tops(peak_ts, peak_vals, d_peak_vals, top_n):\n",
        "    tops = sorted([(t, 0.0*v+1.0*dv) for t, v, dv in zip(peak_ts, peak_vals, d_peak_vals)], key=lambda k:k[1], reverse=True)[:top_n]\n",
        "    print(\"tops: \", tops)\n",
        "    return tops\n",
        "\n",
        "def estimate_start(audio, name=\"\", search_secs=20, is_finetune=False):\n",
        "    print(\"\\n\"+name+\"\\n\")\n",
        "    c_dur = 0.1 #every chunk is 0.1 seconds\n",
        "    chunks = [None]*int(search_secs/c_dur)\n",
        "\n",
        "    # read the music in search range\n",
        "    # chunks = [chunk[:,0] for chunk in audio.iter_chunks(chunk_duration=c_dur)] \n",
        "    iter = audio.iter_chunks(chunk_duration=c_dur)\n",
        "    for i in range(len(chunks)):\n",
        "      chunk = iter.__next__()\n",
        "      chunks[i] = chunk[:,0]\n",
        "    \n",
        "    # peaks = [(chunk.argmax(),chunk[chunk.argmax()]) for chunk in chunks[:int(search_secs/c_dur)]]\n",
        "    peaks = [(chunk.argmax(),chunk[chunk.argmax()]) for chunk in chunks]\n",
        "    peak_vals = [p[1] for p in peaks]\n",
        "    peak_ts = [(sec + p[0]*1/audio.fps)*c_dur for sec, p in zip(range(len(peaks)), peaks) ]\n",
        "    d_peaks = [0]+[t1-t0 for t0, t1 in zip(peak_vals[:-1], peak_vals[1:])]\n",
        "\n",
        "\n",
        "    is_master = False\n",
        "    if os.path.basename(name).lower().startswith('m') and not is_finetune:\n",
        "      is_master = True\n",
        "      \n",
        "    # top_vals = [v for t, v in tops]\n",
        "    # is_master = False\n",
        "    # if mean(top_vals) > 0.75*max(top_vals):\n",
        "    #   is_master = True\n",
        "\n",
        "    # print(\"is master: \", is_master , mean(top_vals), max(top_vals))\n",
        "    if is_master:\n",
        "      tops = get_tops(peak_ts, peak_vals, d_peaks, 8)\n",
        "      clap_times = sorted([t for t, v in tops[:8]])[-4:]\n",
        "    else:\n",
        "      #clap_times = sorted([t for t, v in tops[:4]])\n",
        "      # clap_times = get_regular_patterns(sorted([t for t, v in tops[:8]]))\n",
        "      if is_finetune:\n",
        "        tops = get_tops(peak_ts, peak_vals, d_peaks, 8)\n",
        "        clap_times = get_regular_patterns(sorted([t for t, v in tops[:4]]))\n",
        "      else:\n",
        "        tops = get_tops(peak_ts, peak_vals, d_peaks, 10)\n",
        "        clap_times = get_regular_patterns(sorted([t for t, v in tops]))\n",
        "        cheat_list = {#\"A_Lina_1.MOV\":[4,5,6,7],\n",
        "                      #\"T_Preston.mp4\":[1,2,3,4] #,\n",
        "                      #\"T_Enoch_1.mp4\":[2,3,4,5]\n",
        "                      }\n",
        "        if os.path.basename(name) in cheat_list:\n",
        "          sorted_t = sorted([t for t, v in tops])\n",
        "          clap_times = [sorted_t[i] for i in cheat_list[os.path.basename(name)]]\n",
        "\n",
        "    print (\"detected claps at \", np.array(clap_times))\n",
        "\n",
        "    diffs = [t1-t0 for t0, t1 in zip(clap_times[0:3], clap_times[1:4])]\n",
        "    print(\"intervals: \", diffs)\n",
        "    est_mean = mean(diffs)\n",
        "    est=[0,0,0,0]\n",
        "    est[0] = clap_times[0]+est_mean*3.5\n",
        "    est[1] = clap_times[1]+est_mean*2.5\n",
        "    est[2] = clap_times[2]+est_mean*1.5\n",
        "    est[3] = clap_times[3]+est_mean*0.5\n",
        "\n",
        "    start_est = mean(est) - est_mean*4\n",
        "    print(\"start est:\", start_est)\n",
        "\n",
        "    tops = np.array(tops)\n",
        "    p1 = plt.subplot(211)\n",
        "    plt.plot(peak_ts, peak_vals,  '-' ,color = \"red\")\n",
        "    plt.plot(tops[:,0], tops[:,1], \"x\")\n",
        "    p2 = plt.subplot(212)\n",
        "    plt.plot(peak_ts, d_peaks,'-', color = 'blue')\n",
        "    plt.plot(clap_times, [0]*len(clap_times), \"x\")\n",
        "    plt.show()\n",
        "    return start_est\n"
      ],
      "execution_count": 0,
      "outputs": []
    },
    {
      "cell_type": "code",
      "metadata": {
        "id": "1R2IMvlCK_MH",
        "colab_type": "code",
        "colab": {}
      },
      "source": [
        "def get_vid_array_dim(n):\n",
        "  i=0 \n",
        "  while True:\n",
        "    i+=1\n",
        "    if i*i >= n:\n",
        "      break\n",
        "\n",
        "  if i*i == n:\n",
        "    return (i, i)\n",
        "  if (i-1)*i >= n:\n",
        "    return (i-1,i)\n",
        "  return (i,i)\n",
        "\n",
        "filenames = [filename for pattern in VID_FILE_GLOBS for filename in glob.glob(INPUT_PATH+pattern)]\n",
        "filenames = [filename for filename in filenames if not os.path.basename(filename).startswith('_')]\n",
        "print(\"Videos: \", filenames)\n",
        "input_vids = [VideoFileClip(filename) for filename in filenames]\n",
        "vid_start_times = [estimate_start(v.audio, v.filename) for v in input_vids]\n",
        "ROWS,COLS = get_vid_array_dim(len(filenames))\n",
        "\n",
        "filenames = [filename for pattern in AUD_FILE_GLOBS for filename in glob.glob(INPUT_PATH+pattern)]\n",
        "filenames = [filename for filename in filenames if not os.path.basename(filename).startswith('_')]\n",
        "input_auds = [AudioFileClip(filename) for filename in filenames]\n",
        "print(\"Audios: \", filenames)\n",
        "aud_start_times = [estimate_start(a, a.filename) for a in input_auds]\n"
      ],
      "execution_count": 0,
      "outputs": []
    },
    {
      "cell_type": "markdown",
      "metadata": {
        "id": "JVr4_T32v0yF",
        "colab_type": "text"
      },
      "source": [
        "### Finetune start time"
      ]
    },
    {
      "cell_type": "code",
      "metadata": {
        "id": "fWVBY6IIv5aF",
        "colab_type": "code",
        "colab": {}
      },
      "source": [
        "\n",
        "input_vids_t = [v.subclip(t_start=max(t,0)) for v, t in zip(input_vids, vid_start_times)]\n",
        "vid_start_times_fine = [estimate_start(\n",
        "    v.audio, v.filename, search_secs=5, is_finetune=True) for v in input_vids_t]\n",
        "\n",
        "# input_auds_t = [a.subclip(t_start=t) for a, t in zip(input_auds, aud_start_times)]\n",
        "# aud_start_times_fine = [estimate_start(\n",
        "#     a, a.filename, search_secs=5, is_finetune=True) for a in input_auds_t]\n"
      ],
      "execution_count": 0,
      "outputs": []
    },
    {
      "cell_type": "markdown",
      "metadata": {
        "id": "UgRfa7CENwzO",
        "colab_type": "text"
      },
      "source": [
        "### Just syncing audio for now ###"
      ]
    },
    {
      "cell_type": "code",
      "metadata": {
        "id": "Uw9CMTVtNwKv",
        "colab_type": "code",
        "outputId": "a1f22e8d-2843-491f-e233-777ece66c46a",
        "colab": {
          "base_uri": "https://localhost:8080/",
          "height": 68
        }
      },
      "source": [
        "tFx = lambda v, startTime:v.subclip(startTime).volumex(1/(len(input_vids))**0.5)\n",
        "out_vids = [tFx(v, max(st,0)+dt) for v, st, dt in zip(input_vids, vid_start_times, vid_start_times_fine)]\n",
        "#out_auds = [tFx(a, st) for a, st, dt in zip(input_auds, aud_start_times, aud_start_times_fine)]\n",
        "#cc = CompositeAudioClip([v.audio for v in out_vids]+out_auds)\n",
        "cc = CompositeAudioClip([v.audio for v in out_vids])\n",
        "cc.write_audiofile(OUTPUT_PATH+\"output.mp3\", fps=44100, codec='mp3')\n",
        "#ipython_display(cc, fps=44100, maxduration=360)\n"
      ],
      "execution_count": 0,
      "outputs": [
        {
          "output_type": "stream",
          "text": [
            "[MoviePy] Writing audio in ./outputs/0422/A Promise/output.mp3\n"
          ],
          "name": "stdout"
        },
        {
          "output_type": "stream",
          "text": [
            "100%|██████████| 5146/5146 [01:08<00:00, 75.02it/s] "
          ],
          "name": "stderr"
        },
        {
          "output_type": "stream",
          "text": [
            "[MoviePy] Done.\n"
          ],
          "name": "stdout"
        },
        {
          "output_type": "stream",
          "text": [
            "\n"
          ],
          "name": "stderr"
        }
      ]
    },
    {
      "cell_type": "markdown",
      "metadata": {
        "id": "R_QhSaqVw89v",
        "colab_type": "text"
      },
      "source": [
        "### Create solo-group stereo track for comparison and study\n"
      ]
    },
    {
      "cell_type": "code",
      "metadata": {
        "id": "5Qms9U3hw7EW",
        "colab_type": "code",
        "colab": {}
      },
      "source": [
        "group = cc.to_soundarray(fps=44100)[:,0]\n",
        "for v in out_vids:\n",
        "  vfname = os.path.basename(v.filename)\n",
        "  if vfname.lower().startswith(\"m\"):\n",
        "    continue\n",
        "  a = v.audio.to_soundarray()[:,0]\n",
        "  mlen = min(len(a), len(group))\n",
        "  mix = AudioArrayClip(np.transpose([a[:mlen], group[:mlen]]), fps=44100)\n",
        "  mix.write_audiofile(OUTPUT_PATH+\"compare/\"+vfname+\"_output.mp3\", codec='mp3')"
      ],
      "execution_count": 0,
      "outputs": []
    },
    {
      "cell_type": "markdown",
      "metadata": {
        "id": "Gr0ZgKiqqkQ7",
        "colab_type": "text"
      },
      "source": [
        "### try to sync audio by clipping, do not merge ###\n"
      ]
    },
    {
      "cell_type": "code",
      "metadata": {
        "id": "KJblfH4kqjri",
        "colab_type": "code",
        "colab": {}
      },
      "source": [
        "tFx = lambda v, startTime:v.subclip(startTime).volumex(1/(len(input_vids))**0.5)\n",
        "#out_vids = [tFx(v, start_time) for v, start_time in zip(input_vids, vid_start_times)]\n",
        "out_vids = [tFx(v, max(st,0)+dt) for v, st, dt in zip(input_vids, vid_start_times, vid_start_times_fine)]\n",
        "\n",
        "#out_auds = [tFx(a, start_time) for a, start_time in zip(input_auds, aud_start_times)]\n",
        "\n",
        "for vid in out_vids:\n",
        "  vid.audio.write_audiofile(OUTPUT_PATH+\"solo/\"+os.path.basename(vid.filename)+\".mp3\", codec='mp3')\n",
        "#for aud in out_auds:\n",
        "#  aud.write_audiofile(OUTPUT_PATH+os.path.basename(aud.filename)+\".mp3\", codec='mp3')"
      ],
      "execution_count": 0,
      "outputs": []
    },
    {
      "cell_type": "markdown",
      "metadata": {
        "id": "cZB5gO7g4c4c",
        "colab_type": "text"
      },
      "source": [
        "### Mixing clips using clip_array ###"
      ]
    },
    {
      "cell_type": "code",
      "metadata": {
        "id": "uH3MCucm4jUH",
        "colab_type": "code",
        "colab": {}
      },
      "source": [
        "def SATB_order(v):\n",
        "  key = ''\n",
        "  if 'filename' in v.__dict__:\n",
        "    filepath = v.filename\n",
        "    filename = os.path.basename(filepath)\n",
        "    key = filename[0].lower()\n",
        "  m={'s':0,'a':1,'t':2,'b':3}\n",
        "  if key in m.keys():\n",
        "    return m[key]\n",
        "  return randint(0,3)\n",
        "\n",
        "vFx = lambda v, startTime:(v.subclip(startTime)\n",
        "  .crop(width=W,height=H, x_center=v.w//2, y_center=v.h//2)\n",
        "  .resize(height=H//ROWS)\n",
        "  .crop(width=W//COLS, x_center=v.w//2)\n",
        "#  .crop(width=W//COLS,height=H//ROWS, x_center=v.w//2, y_center=v.h//2)\n",
        "#  .resize(width=W//COLS)\n",
        "#  .crop(width=W//COLS, height=H//ROWS)\n",
        "#  .fx(afx.audio_normalize)\n",
        "  .volumex(1/len(input_vids)**0.5)\n",
        "  )\n",
        "\n",
        "## TODO: mix out_auds into the final output ##\n",
        "#out_vids = [vFx(v, start_time) for v, start_time in zip(input_vids, vid_start_times)]\n",
        "out_vids = [vFx(v, max(st,0)+dt) for v, st, dt in zip(input_vids, vid_start_times, vid_start_times_fine)]\n",
        "clip_duration = max([i.duration for i in out_vids])\n",
        "empty_clip = ColorClip((W//COLS,H//ROWS), (0,0,0), duration=clip_duration)\n",
        "out_vids = out_vids+[empty_clip]*(ROWS*COLS-len(out_vids))\n",
        "shuffle(out_vids)\n",
        "out_vids.sort(key=SATB_order)\n",
        "tiles = np.reshape(out_vids, (COLS, ROWS)) #dimension is inversed because need to transpose in next line\n",
        "tiles = np.transpose(tiles)\n",
        "cc = clips_array(tiles, cols_widths=[W//COLS]*COLS)\n",
        "\n",
        "\n",
        "#ipython_display(cc, t=30)\n",
        "\n",
        "cc.write_videofile(OUTPUT_PATH+\"output.mp4\", fps=30, codec='libx264', ffmpeg_params=['-crf','18'], threads=4)"
      ],
      "execution_count": 0,
      "outputs": []
    },
    {
      "cell_type": "code",
      "metadata": {
        "id": "5kS0o5ajmzeg",
        "colab_type": "code",
        "colab": {}
      },
      "source": [
        ""
      ],
      "execution_count": 0,
      "outputs": []
    }
  ]
}